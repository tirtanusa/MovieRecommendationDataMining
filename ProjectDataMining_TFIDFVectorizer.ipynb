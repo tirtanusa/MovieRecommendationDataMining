{
 "cells": [
  {
   "cell_type": "markdown",
   "id": "6bfe9100",
   "metadata": {},
   "source": [
    "# Import Data & Cleaning"
   ]
  },
  {
   "cell_type": "code",
   "execution_count": 47,
   "id": "1c558b6b",
   "metadata": {},
   "outputs": [],
   "source": [
    "import pandas as pd\n",
    "import re\n",
    "import numpy as np"
   ]
  },
  {
   "cell_type": "code",
   "execution_count": 48,
   "id": "52edf7cd",
   "metadata": {},
   "outputs": [
    {
     "data": {
      "text/html": [
       "<div>\n",
       "<style scoped>\n",
       "    .dataframe tbody tr th:only-of-type {\n",
       "        vertical-align: middle;\n",
       "    }\n",
       "\n",
       "    .dataframe tbody tr th {\n",
       "        vertical-align: top;\n",
       "    }\n",
       "\n",
       "    .dataframe thead th {\n",
       "        text-align: right;\n",
       "    }\n",
       "</style>\n",
       "<table border=\"1\" class=\"dataframe\">\n",
       "  <thead>\n",
       "    <tr style=\"text-align: right;\">\n",
       "      <th></th>\n",
       "      <th>Unnamed: 0</th>\n",
       "      <th>Title</th>\n",
       "      <th>Genre</th>\n",
       "      <th>Descrption</th>\n",
       "    </tr>\n",
       "  </thead>\n",
       "  <tbody>\n",
       "    <tr>\n",
       "      <th>0</th>\n",
       "      <td>0</td>\n",
       "      <td>The Shawshank Redemption</td>\n",
       "      <td>Drama</td>\n",
       "      <td>Two imprisoned men bond over a number of years...</td>\n",
       "    </tr>\n",
       "    <tr>\n",
       "      <th>1</th>\n",
       "      <td>1</td>\n",
       "      <td>The Godfather</td>\n",
       "      <td>Crime, Drama</td>\n",
       "      <td>The aging patriarch of an organized crime dyna...</td>\n",
       "    </tr>\n",
       "    <tr>\n",
       "      <th>2</th>\n",
       "      <td>2</td>\n",
       "      <td>The Dark Knight</td>\n",
       "      <td>Action, Crime, Drama</td>\n",
       "      <td>When the menace known as the Joker wreaks havo...</td>\n",
       "    </tr>\n",
       "    <tr>\n",
       "      <th>3</th>\n",
       "      <td>3</td>\n",
       "      <td>Schindler's List</td>\n",
       "      <td>Biography, Drama, History</td>\n",
       "      <td>In German-occupied Poland during World War II,...</td>\n",
       "    </tr>\n",
       "    <tr>\n",
       "      <th>4</th>\n",
       "      <td>4</td>\n",
       "      <td>12 Angry Men</td>\n",
       "      <td>Crime, Drama</td>\n",
       "      <td>The jury in a New York City murder trial is fr...</td>\n",
       "    </tr>\n",
       "    <tr>\n",
       "      <th>...</th>\n",
       "      <td>...</td>\n",
       "      <td>...</td>\n",
       "      <td>...</td>\n",
       "      <td>...</td>\n",
       "    </tr>\n",
       "    <tr>\n",
       "      <th>755</th>\n",
       "      <td>755</td>\n",
       "      <td>The Vanishing</td>\n",
       "      <td>Drama, Horror, Mystery</td>\n",
       "      <td>Rex and Saskia, a young couple in love, are on...</td>\n",
       "    </tr>\n",
       "    <tr>\n",
       "      <th>756</th>\n",
       "      <td>756</td>\n",
       "      <td>Solaris</td>\n",
       "      <td>Drama, Mystery, Romance</td>\n",
       "      <td>A psychologist is sent to a station orbiting a...</td>\n",
       "    </tr>\n",
       "    <tr>\n",
       "      <th>757</th>\n",
       "      <td>757</td>\n",
       "      <td>The Kid</td>\n",
       "      <td>Comedy, Family, Fantasy</td>\n",
       "      <td>The Tramp cares for an abandoned child, but ev...</td>\n",
       "    </tr>\n",
       "    <tr>\n",
       "      <th>758</th>\n",
       "      <td>758</td>\n",
       "      <td>Breathless</td>\n",
       "      <td>Action, Drama, Romance</td>\n",
       "      <td>A small-time thief steals a car and impulsivel...</td>\n",
       "    </tr>\n",
       "    <tr>\n",
       "      <th>759</th>\n",
       "      <td>759</td>\n",
       "      <td>The Day the Earth Stood Still</td>\n",
       "      <td>Adventure, Drama, Sci-Fi</td>\n",
       "      <td>An alien lands in Washington, D.C. and tells t...</td>\n",
       "    </tr>\n",
       "  </tbody>\n",
       "</table>\n",
       "<p>760 rows × 4 columns</p>\n",
       "</div>"
      ],
      "text/plain": [
       "     Unnamed: 0                          Title                      Genre  \\\n",
       "0             0       The Shawshank Redemption                      Drama   \n",
       "1             1                  The Godfather               Crime, Drama   \n",
       "2             2                The Dark Knight       Action, Crime, Drama   \n",
       "3             3               Schindler's List  Biography, Drama, History   \n",
       "4             4                   12 Angry Men               Crime, Drama   \n",
       "..          ...                            ...                        ...   \n",
       "755         755                  The Vanishing     Drama, Horror, Mystery   \n",
       "756         756                        Solaris    Drama, Mystery, Romance   \n",
       "757         757                        The Kid    Comedy, Family, Fantasy   \n",
       "758         758                     Breathless     Action, Drama, Romance   \n",
       "759         759  The Day the Earth Stood Still   Adventure, Drama, Sci-Fi   \n",
       "\n",
       "                                            Descrption  \n",
       "0    Two imprisoned men bond over a number of years...  \n",
       "1    The aging patriarch of an organized crime dyna...  \n",
       "2    When the menace known as the Joker wreaks havo...  \n",
       "3    In German-occupied Poland during World War II,...  \n",
       "4    The jury in a New York City murder trial is fr...  \n",
       "..                                                 ...  \n",
       "755  Rex and Saskia, a young couple in love, are on...  \n",
       "756  A psychologist is sent to a station orbiting a...  \n",
       "757  The Tramp cares for an abandoned child, but ev...  \n",
       "758  A small-time thief steals a car and impulsivel...  \n",
       "759  An alien lands in Washington, D.C. and tells t...  \n",
       "\n",
       "[760 rows x 4 columns]"
      ]
     },
     "execution_count": 48,
     "metadata": {},
     "output_type": "execute_result"
    }
   ],
   "source": [
    "df = pd.read_csv('mergedFile.csv')\n",
    "df"
   ]
  },
  {
   "cell_type": "markdown",
   "id": "985c6f6e",
   "metadata": {},
   "source": [
    "# Vectorizing"
   ]
  },
  {
   "cell_type": "code",
   "execution_count": 57,
   "id": "cf041313",
   "metadata": {},
   "outputs": [
    {
     "data": {
      "text/plain": [
       "50     0.376827\n",
       "60     0.245623\n",
       "416    0.000000\n",
       "194    0.295482\n",
       "Name: universe, dtype: float64"
      ]
     },
     "execution_count": 57,
     "metadata": {},
     "output_type": "execute_result"
    }
   ],
   "source": [
    "from sklearn.feature_extraction.text import TfidfVectorizer\n",
    "\n",
    "\n",
    "vectorizer = TfidfVectorizer(stop_words = 'english',lowercase = True)\n",
    "x = vectorizer.fit_transform(df['Descrption'])\n",
    "\n",
    "\n",
    "tfidf = pd.DataFrame(x.toarray(), columns = vectorizer.get_feature_names_out())\n",
    "\n",
    "tfidf_cut = tfidf.iloc[[50,60,416,194],:]\n",
    "tfidf_cut['universe']\n"
   ]
  },
  {
   "cell_type": "markdown",
   "id": "d27ec33f",
   "metadata": {},
   "source": [
    "# Hitung Similarity"
   ]
  },
  {
   "cell_type": "code",
   "execution_count": 50,
   "id": "aba5e0c3",
   "metadata": {},
   "outputs": [],
   "source": [
    "from sklearn.metrics.pairwise import cosine_similarity\n",
    "\n",
    "cosine_sim = cosine_similarity(tfidf,tfidf)"
   ]
  },
  {
   "cell_type": "markdown",
   "id": "5c4439cf",
   "metadata": {},
   "source": [
    "# Movie Recommendation (Output)"
   ]
  },
  {
   "cell_type": "code",
   "execution_count": 51,
   "id": "51d7fbd5",
   "metadata": {},
   "outputs": [],
   "source": [
    "def get_recom(title,df,cosine_sim,top_n = 5):\n",
    "    if title not in df['Title'].values:\n",
    "        return \"Film tidak ditemukan\"\n",
    "    \n",
    "    movie_index = df.index[df['Title'] == title].tolist()[0]\n",
    "    \n",
    "    sim_score = list(enumerate(cosine_sim[movie_index]))\n",
    "    \n",
    "    sim_score = sorted(sim_score, key= lambda x: x[1],reverse=True)\n",
    "    \n",
    "    \n",
    "    top_movie_indices = [i[0] for i in sim_score[1:top_n+1]]\n",
    "    \n",
    "    top_movie = df.iloc[top_movie_indices]\n",
    "    return top_movie"
   ]
  },
  {
   "cell_type": "code",
   "execution_count": 52,
   "id": "effaa155",
   "metadata": {},
   "outputs": [
    {
     "data": {
      "text/html": [
       "<div>\n",
       "<style scoped>\n",
       "    .dataframe tbody tr th:only-of-type {\n",
       "        vertical-align: middle;\n",
       "    }\n",
       "\n",
       "    .dataframe tbody tr th {\n",
       "        vertical-align: top;\n",
       "    }\n",
       "\n",
       "    .dataframe thead th {\n",
       "        text-align: right;\n",
       "    }\n",
       "</style>\n",
       "<table border=\"1\" class=\"dataframe\">\n",
       "  <thead>\n",
       "    <tr style=\"text-align: right;\">\n",
       "      <th></th>\n",
       "      <th>Unnamed: 0</th>\n",
       "      <th>Title</th>\n",
       "      <th>Genre</th>\n",
       "      <th>Descrption</th>\n",
       "    </tr>\n",
       "  </thead>\n",
       "  <tbody>\n",
       "    <tr>\n",
       "      <th>60</th>\n",
       "      <td>60</td>\n",
       "      <td>Avengers: Infinity War</td>\n",
       "      <td>Action, Adventure, Sci-Fi</td>\n",
       "      <td>The Avengers and their allies must be willing ...</td>\n",
       "    </tr>\n",
       "    <tr>\n",
       "      <th>416</th>\n",
       "      <td>416</td>\n",
       "      <td>Captain America: Civil War</td>\n",
       "      <td>Action, Sci-Fi</td>\n",
       "      <td>Political involvement in the Avengers' affairs...</td>\n",
       "    </tr>\n",
       "    <tr>\n",
       "      <th>194</th>\n",
       "      <td>194</td>\n",
       "      <td>Guardians of the Galaxy</td>\n",
       "      <td>Action, Adventure, Comedy</td>\n",
       "      <td>A group of intergalactic criminals must pull t...</td>\n",
       "    </tr>\n",
       "    <tr>\n",
       "      <th>620</th>\n",
       "      <td>620</td>\n",
       "      <td>Waking Life</td>\n",
       "      <td>Animation, Drama, Fantasy</td>\n",
       "      <td>A man shuffles through a dream meeting various...</td>\n",
       "    </tr>\n",
       "    <tr>\n",
       "      <th>51</th>\n",
       "      <td>51</td>\n",
       "      <td>Spider-Man: Into the Spider-Verse</td>\n",
       "      <td>Animation, Action, Adventure</td>\n",
       "      <td>Teen Miles Morales becomes the Spider-Man of h...</td>\n",
       "    </tr>\n",
       "  </tbody>\n",
       "</table>\n",
       "</div>"
      ],
      "text/plain": [
       "     Unnamed: 0                              Title  \\\n",
       "60           60             Avengers: Infinity War   \n",
       "416         416         Captain America: Civil War   \n",
       "194         194            Guardians of the Galaxy   \n",
       "620         620                        Waking Life   \n",
       "51           51  Spider-Man: Into the Spider-Verse   \n",
       "\n",
       "                            Genre  \\\n",
       "60      Action, Adventure, Sci-Fi   \n",
       "416                Action, Sci-Fi   \n",
       "194     Action, Adventure, Comedy   \n",
       "620     Animation, Drama, Fantasy   \n",
       "51   Animation, Action, Adventure   \n",
       "\n",
       "                                            Descrption  \n",
       "60   The Avengers and their allies must be willing ...  \n",
       "416  Political involvement in the Avengers' affairs...  \n",
       "194  A group of intergalactic criminals must pull t...  \n",
       "620  A man shuffles through a dream meeting various...  \n",
       "51   Teen Miles Morales becomes the Spider-Man of h...  "
      ]
     },
     "execution_count": 52,
     "metadata": {},
     "output_type": "execute_result"
    }
   ],
   "source": [
    "input = \"Avengers: Endgame\"\n",
    "recom = get_recom(input,df, cosine_sim)\n",
    "recom"
   ]
  }
 ],
 "metadata": {
  "kernelspec": {
   "display_name": "Python 3 (ipykernel)",
   "language": "python",
   "name": "python3"
  },
  "language_info": {
   "codemirror_mode": {
    "name": "ipython",
    "version": 3
   },
   "file_extension": ".py",
   "mimetype": "text/x-python",
   "name": "python",
   "nbconvert_exporter": "python",
   "pygments_lexer": "ipython3",
   "version": "3.11.5"
  }
 },
 "nbformat": 4,
 "nbformat_minor": 5
}
